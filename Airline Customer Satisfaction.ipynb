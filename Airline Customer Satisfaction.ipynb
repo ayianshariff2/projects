{
  "nbformat": 4,
  "nbformat_minor": 0,
  "metadata": {
    "colab": {
      "provenance": []
    },
    "kernelspec": {
      "name": "python3",
      "display_name": "Python 3"
    },
    "language_info": {
      "name": "python"
    }
  },
  "cells": [
    {
      "cell_type": "code",
      "execution_count": 1,
      "metadata": {
        "id": "724Tor8yRTRM"
      },
      "outputs": [],
      "source": [
        "import pandas as pd\n",
        "import numpy as np\n",
        "df = pd.read_csv(\"airline_passenger_satisfaction.csv\")"
      ]
    },
    {
      "cell_type": "code",
      "source": [
        "pd.set_option('display.max_columns', None)\n",
        "df.head()"
      ],
      "metadata": {
        "colab": {
          "base_uri": "https://localhost:8080/",
          "height": 276
        },
        "id": "QF3U7SDuRuER",
        "outputId": "d72a69ee-59f0-4066-b0d1-fff5df117c04"
      },
      "execution_count": 2,
      "outputs": [
        {
          "output_type": "execute_result",
          "data": {
            "text/plain": [
              "   ID  Gender  Age Customer Type Type of Travel     Class  Flight Distance  \\\n",
              "0   1    Male   48    First-time       Business  Business              821   \n",
              "1   2  Female   35     Returning       Business  Business              821   \n",
              "2   3    Male   41     Returning       Business  Business              853   \n",
              "3   4    Male   50     Returning       Business  Business             1905   \n",
              "4   5  Female   49     Returning       Business  Business             3470   \n",
              "\n",
              "   Departure Delay  Arrival Delay  Departure and Arrival Time Convenience  \\\n",
              "0                2            5.0                                       3   \n",
              "1               26           39.0                                       2   \n",
              "2                0            0.0                                       4   \n",
              "3                0            0.0                                       2   \n",
              "4                0            1.0                                       3   \n",
              "\n",
              "   Ease of Online Booking  Check-in Service  Online Boarding  Gate Location  \\\n",
              "0                       3                 4                3              3   \n",
              "1                       2                 3                5              2   \n",
              "2                       4                 4                5              4   \n",
              "3                       2                 3                4              2   \n",
              "4                       3                 3                5              3   \n",
              "\n",
              "   On-board Service  Seat Comfort  Leg Room Service  Cleanliness  \\\n",
              "0                 3             5                 2            5   \n",
              "1                 5             4                 5            5   \n",
              "2                 3             5                 3            5   \n",
              "3                 5             5                 5            4   \n",
              "4                 3             4                 4            5   \n",
              "\n",
              "   Food and Drink  In-flight Service  In-flight Wifi Service  \\\n",
              "0               5                  5                       3   \n",
              "1               3                  5                       2   \n",
              "2               5                  3                       4   \n",
              "3               4                  5                       2   \n",
              "4               4                  3                       3   \n",
              "\n",
              "   In-flight Entertainment  Baggage Handling             Satisfaction  \n",
              "0                        5                 5  Neutral or Dissatisfied  \n",
              "1                        5                 5                Satisfied  \n",
              "2                        3                 3                Satisfied  \n",
              "3                        5                 5                Satisfied  \n",
              "4                        3                 3                Satisfied  "
            ],
            "text/html": [
              "\n",
              "  <div id=\"df-953cb971-c644-4de1-aae9-39d7396e2baf\" class=\"colab-df-container\">\n",
              "    <div>\n",
              "<style scoped>\n",
              "    .dataframe tbody tr th:only-of-type {\n",
              "        vertical-align: middle;\n",
              "    }\n",
              "\n",
              "    .dataframe tbody tr th {\n",
              "        vertical-align: top;\n",
              "    }\n",
              "\n",
              "    .dataframe thead th {\n",
              "        text-align: right;\n",
              "    }\n",
              "</style>\n",
              "<table border=\"1\" class=\"dataframe\">\n",
              "  <thead>\n",
              "    <tr style=\"text-align: right;\">\n",
              "      <th></th>\n",
              "      <th>ID</th>\n",
              "      <th>Gender</th>\n",
              "      <th>Age</th>\n",
              "      <th>Customer Type</th>\n",
              "      <th>Type of Travel</th>\n",
              "      <th>Class</th>\n",
              "      <th>Flight Distance</th>\n",
              "      <th>Departure Delay</th>\n",
              "      <th>Arrival Delay</th>\n",
              "      <th>Departure and Arrival Time Convenience</th>\n",
              "      <th>Ease of Online Booking</th>\n",
              "      <th>Check-in Service</th>\n",
              "      <th>Online Boarding</th>\n",
              "      <th>Gate Location</th>\n",
              "      <th>On-board Service</th>\n",
              "      <th>Seat Comfort</th>\n",
              "      <th>Leg Room Service</th>\n",
              "      <th>Cleanliness</th>\n",
              "      <th>Food and Drink</th>\n",
              "      <th>In-flight Service</th>\n",
              "      <th>In-flight Wifi Service</th>\n",
              "      <th>In-flight Entertainment</th>\n",
              "      <th>Baggage Handling</th>\n",
              "      <th>Satisfaction</th>\n",
              "    </tr>\n",
              "  </thead>\n",
              "  <tbody>\n",
              "    <tr>\n",
              "      <th>0</th>\n",
              "      <td>1</td>\n",
              "      <td>Male</td>\n",
              "      <td>48</td>\n",
              "      <td>First-time</td>\n",
              "      <td>Business</td>\n",
              "      <td>Business</td>\n",
              "      <td>821</td>\n",
              "      <td>2</td>\n",
              "      <td>5.0</td>\n",
              "      <td>3</td>\n",
              "      <td>3</td>\n",
              "      <td>4</td>\n",
              "      <td>3</td>\n",
              "      <td>3</td>\n",
              "      <td>3</td>\n",
              "      <td>5</td>\n",
              "      <td>2</td>\n",
              "      <td>5</td>\n",
              "      <td>5</td>\n",
              "      <td>5</td>\n",
              "      <td>3</td>\n",
              "      <td>5</td>\n",
              "      <td>5</td>\n",
              "      <td>Neutral or Dissatisfied</td>\n",
              "    </tr>\n",
              "    <tr>\n",
              "      <th>1</th>\n",
              "      <td>2</td>\n",
              "      <td>Female</td>\n",
              "      <td>35</td>\n",
              "      <td>Returning</td>\n",
              "      <td>Business</td>\n",
              "      <td>Business</td>\n",
              "      <td>821</td>\n",
              "      <td>26</td>\n",
              "      <td>39.0</td>\n",
              "      <td>2</td>\n",
              "      <td>2</td>\n",
              "      <td>3</td>\n",
              "      <td>5</td>\n",
              "      <td>2</td>\n",
              "      <td>5</td>\n",
              "      <td>4</td>\n",
              "      <td>5</td>\n",
              "      <td>5</td>\n",
              "      <td>3</td>\n",
              "      <td>5</td>\n",
              "      <td>2</td>\n",
              "      <td>5</td>\n",
              "      <td>5</td>\n",
              "      <td>Satisfied</td>\n",
              "    </tr>\n",
              "    <tr>\n",
              "      <th>2</th>\n",
              "      <td>3</td>\n",
              "      <td>Male</td>\n",
              "      <td>41</td>\n",
              "      <td>Returning</td>\n",
              "      <td>Business</td>\n",
              "      <td>Business</td>\n",
              "      <td>853</td>\n",
              "      <td>0</td>\n",
              "      <td>0.0</td>\n",
              "      <td>4</td>\n",
              "      <td>4</td>\n",
              "      <td>4</td>\n",
              "      <td>5</td>\n",
              "      <td>4</td>\n",
              "      <td>3</td>\n",
              "      <td>5</td>\n",
              "      <td>3</td>\n",
              "      <td>5</td>\n",
              "      <td>5</td>\n",
              "      <td>3</td>\n",
              "      <td>4</td>\n",
              "      <td>3</td>\n",
              "      <td>3</td>\n",
              "      <td>Satisfied</td>\n",
              "    </tr>\n",
              "    <tr>\n",
              "      <th>3</th>\n",
              "      <td>4</td>\n",
              "      <td>Male</td>\n",
              "      <td>50</td>\n",
              "      <td>Returning</td>\n",
              "      <td>Business</td>\n",
              "      <td>Business</td>\n",
              "      <td>1905</td>\n",
              "      <td>0</td>\n",
              "      <td>0.0</td>\n",
              "      <td>2</td>\n",
              "      <td>2</td>\n",
              "      <td>3</td>\n",
              "      <td>4</td>\n",
              "      <td>2</td>\n",
              "      <td>5</td>\n",
              "      <td>5</td>\n",
              "      <td>5</td>\n",
              "      <td>4</td>\n",
              "      <td>4</td>\n",
              "      <td>5</td>\n",
              "      <td>2</td>\n",
              "      <td>5</td>\n",
              "      <td>5</td>\n",
              "      <td>Satisfied</td>\n",
              "    </tr>\n",
              "    <tr>\n",
              "      <th>4</th>\n",
              "      <td>5</td>\n",
              "      <td>Female</td>\n",
              "      <td>49</td>\n",
              "      <td>Returning</td>\n",
              "      <td>Business</td>\n",
              "      <td>Business</td>\n",
              "      <td>3470</td>\n",
              "      <td>0</td>\n",
              "      <td>1.0</td>\n",
              "      <td>3</td>\n",
              "      <td>3</td>\n",
              "      <td>3</td>\n",
              "      <td>5</td>\n",
              "      <td>3</td>\n",
              "      <td>3</td>\n",
              "      <td>4</td>\n",
              "      <td>4</td>\n",
              "      <td>5</td>\n",
              "      <td>4</td>\n",
              "      <td>3</td>\n",
              "      <td>3</td>\n",
              "      <td>3</td>\n",
              "      <td>3</td>\n",
              "      <td>Satisfied</td>\n",
              "    </tr>\n",
              "  </tbody>\n",
              "</table>\n",
              "</div>\n",
              "    <div class=\"colab-df-buttons\">\n",
              "\n",
              "  <div class=\"colab-df-container\">\n",
              "    <button class=\"colab-df-convert\" onclick=\"convertToInteractive('df-953cb971-c644-4de1-aae9-39d7396e2baf')\"\n",
              "            title=\"Convert this dataframe to an interactive table.\"\n",
              "            style=\"display:none;\">\n",
              "\n",
              "  <svg xmlns=\"http://www.w3.org/2000/svg\" height=\"24px\" viewBox=\"0 -960 960 960\">\n",
              "    <path d=\"M120-120v-720h720v720H120Zm60-500h600v-160H180v160Zm220 220h160v-160H400v160Zm0 220h160v-160H400v160ZM180-400h160v-160H180v160Zm440 0h160v-160H620v160ZM180-180h160v-160H180v160Zm440 0h160v-160H620v160Z\"/>\n",
              "  </svg>\n",
              "    </button>\n",
              "\n",
              "  <style>\n",
              "    .colab-df-container {\n",
              "      display:flex;\n",
              "      gap: 12px;\n",
              "    }\n",
              "\n",
              "    .colab-df-convert {\n",
              "      background-color: #E8F0FE;\n",
              "      border: none;\n",
              "      border-radius: 50%;\n",
              "      cursor: pointer;\n",
              "      display: none;\n",
              "      fill: #1967D2;\n",
              "      height: 32px;\n",
              "      padding: 0 0 0 0;\n",
              "      width: 32px;\n",
              "    }\n",
              "\n",
              "    .colab-df-convert:hover {\n",
              "      background-color: #E2EBFA;\n",
              "      box-shadow: 0px 1px 2px rgba(60, 64, 67, 0.3), 0px 1px 3px 1px rgba(60, 64, 67, 0.15);\n",
              "      fill: #174EA6;\n",
              "    }\n",
              "\n",
              "    .colab-df-buttons div {\n",
              "      margin-bottom: 4px;\n",
              "    }\n",
              "\n",
              "    [theme=dark] .colab-df-convert {\n",
              "      background-color: #3B4455;\n",
              "      fill: #D2E3FC;\n",
              "    }\n",
              "\n",
              "    [theme=dark] .colab-df-convert:hover {\n",
              "      background-color: #434B5C;\n",
              "      box-shadow: 0px 1px 3px 1px rgba(0, 0, 0, 0.15);\n",
              "      filter: drop-shadow(0px 1px 2px rgba(0, 0, 0, 0.3));\n",
              "      fill: #FFFFFF;\n",
              "    }\n",
              "  </style>\n",
              "\n",
              "    <script>\n",
              "      const buttonEl =\n",
              "        document.querySelector('#df-953cb971-c644-4de1-aae9-39d7396e2baf button.colab-df-convert');\n",
              "      buttonEl.style.display =\n",
              "        google.colab.kernel.accessAllowed ? 'block' : 'none';\n",
              "\n",
              "      async function convertToInteractive(key) {\n",
              "        const element = document.querySelector('#df-953cb971-c644-4de1-aae9-39d7396e2baf');\n",
              "        const dataTable =\n",
              "          await google.colab.kernel.invokeFunction('convertToInteractive',\n",
              "                                                    [key], {});\n",
              "        if (!dataTable) return;\n",
              "\n",
              "        const docLinkHtml = 'Like what you see? Visit the ' +\n",
              "          '<a target=\"_blank\" href=https://colab.research.google.com/notebooks/data_table.ipynb>data table notebook</a>'\n",
              "          + ' to learn more about interactive tables.';\n",
              "        element.innerHTML = '';\n",
              "        dataTable['output_type'] = 'display_data';\n",
              "        await google.colab.output.renderOutput(dataTable, element);\n",
              "        const docLink = document.createElement('div');\n",
              "        docLink.innerHTML = docLinkHtml;\n",
              "        element.appendChild(docLink);\n",
              "      }\n",
              "    </script>\n",
              "  </div>\n",
              "\n",
              "\n",
              "<div id=\"df-ffb80208-e486-46f7-ac78-63291feab88d\">\n",
              "  <button class=\"colab-df-quickchart\" onclick=\"quickchart('df-ffb80208-e486-46f7-ac78-63291feab88d')\"\n",
              "            title=\"Suggest charts\"\n",
              "            style=\"display:none;\">\n",
              "\n",
              "<svg xmlns=\"http://www.w3.org/2000/svg\" height=\"24px\"viewBox=\"0 0 24 24\"\n",
              "     width=\"24px\">\n",
              "    <g>\n",
              "        <path d=\"M19 3H5c-1.1 0-2 .9-2 2v14c0 1.1.9 2 2 2h14c1.1 0 2-.9 2-2V5c0-1.1-.9-2-2-2zM9 17H7v-7h2v7zm4 0h-2V7h2v10zm4 0h-2v-4h2v4z\"/>\n",
              "    </g>\n",
              "</svg>\n",
              "  </button>\n",
              "\n",
              "<style>\n",
              "  .colab-df-quickchart {\n",
              "      --bg-color: #E8F0FE;\n",
              "      --fill-color: #1967D2;\n",
              "      --hover-bg-color: #E2EBFA;\n",
              "      --hover-fill-color: #174EA6;\n",
              "      --disabled-fill-color: #AAA;\n",
              "      --disabled-bg-color: #DDD;\n",
              "  }\n",
              "\n",
              "  [theme=dark] .colab-df-quickchart {\n",
              "      --bg-color: #3B4455;\n",
              "      --fill-color: #D2E3FC;\n",
              "      --hover-bg-color: #434B5C;\n",
              "      --hover-fill-color: #FFFFFF;\n",
              "      --disabled-bg-color: #3B4455;\n",
              "      --disabled-fill-color: #666;\n",
              "  }\n",
              "\n",
              "  .colab-df-quickchart {\n",
              "    background-color: var(--bg-color);\n",
              "    border: none;\n",
              "    border-radius: 50%;\n",
              "    cursor: pointer;\n",
              "    display: none;\n",
              "    fill: var(--fill-color);\n",
              "    height: 32px;\n",
              "    padding: 0;\n",
              "    width: 32px;\n",
              "  }\n",
              "\n",
              "  .colab-df-quickchart:hover {\n",
              "    background-color: var(--hover-bg-color);\n",
              "    box-shadow: 0 1px 2px rgba(60, 64, 67, 0.3), 0 1px 3px 1px rgba(60, 64, 67, 0.15);\n",
              "    fill: var(--button-hover-fill-color);\n",
              "  }\n",
              "\n",
              "  .colab-df-quickchart-complete:disabled,\n",
              "  .colab-df-quickchart-complete:disabled:hover {\n",
              "    background-color: var(--disabled-bg-color);\n",
              "    fill: var(--disabled-fill-color);\n",
              "    box-shadow: none;\n",
              "  }\n",
              "\n",
              "  .colab-df-spinner {\n",
              "    border: 2px solid var(--fill-color);\n",
              "    border-color: transparent;\n",
              "    border-bottom-color: var(--fill-color);\n",
              "    animation:\n",
              "      spin 1s steps(1) infinite;\n",
              "  }\n",
              "\n",
              "  @keyframes spin {\n",
              "    0% {\n",
              "      border-color: transparent;\n",
              "      border-bottom-color: var(--fill-color);\n",
              "      border-left-color: var(--fill-color);\n",
              "    }\n",
              "    20% {\n",
              "      border-color: transparent;\n",
              "      border-left-color: var(--fill-color);\n",
              "      border-top-color: var(--fill-color);\n",
              "    }\n",
              "    30% {\n",
              "      border-color: transparent;\n",
              "      border-left-color: var(--fill-color);\n",
              "      border-top-color: var(--fill-color);\n",
              "      border-right-color: var(--fill-color);\n",
              "    }\n",
              "    40% {\n",
              "      border-color: transparent;\n",
              "      border-right-color: var(--fill-color);\n",
              "      border-top-color: var(--fill-color);\n",
              "    }\n",
              "    60% {\n",
              "      border-color: transparent;\n",
              "      border-right-color: var(--fill-color);\n",
              "    }\n",
              "    80% {\n",
              "      border-color: transparent;\n",
              "      border-right-color: var(--fill-color);\n",
              "      border-bottom-color: var(--fill-color);\n",
              "    }\n",
              "    90% {\n",
              "      border-color: transparent;\n",
              "      border-bottom-color: var(--fill-color);\n",
              "    }\n",
              "  }\n",
              "</style>\n",
              "\n",
              "  <script>\n",
              "    async function quickchart(key) {\n",
              "      const quickchartButtonEl =\n",
              "        document.querySelector('#' + key + ' button');\n",
              "      quickchartButtonEl.disabled = true;  // To prevent multiple clicks.\n",
              "      quickchartButtonEl.classList.add('colab-df-spinner');\n",
              "      try {\n",
              "        const charts = await google.colab.kernel.invokeFunction(\n",
              "            'suggestCharts', [key], {});\n",
              "      } catch (error) {\n",
              "        console.error('Error during call to suggestCharts:', error);\n",
              "      }\n",
              "      quickchartButtonEl.classList.remove('colab-df-spinner');\n",
              "      quickchartButtonEl.classList.add('colab-df-quickchart-complete');\n",
              "    }\n",
              "    (() => {\n",
              "      let quickchartButtonEl =\n",
              "        document.querySelector('#df-ffb80208-e486-46f7-ac78-63291feab88d button');\n",
              "      quickchartButtonEl.style.display =\n",
              "        google.colab.kernel.accessAllowed ? 'block' : 'none';\n",
              "    })();\n",
              "  </script>\n",
              "</div>\n",
              "    </div>\n",
              "  </div>\n"
            ],
            "application/vnd.google.colaboratory.intrinsic+json": {
              "type": "dataframe",
              "variable_name": "df"
            }
          },
          "metadata": {},
          "execution_count": 2
        }
      ]
    },
    {
      "cell_type": "code",
      "source": [
        "df.shape"
      ],
      "metadata": {
        "colab": {
          "base_uri": "https://localhost:8080/"
        },
        "id": "LIQEA4KlRwEJ",
        "outputId": "8a6540c7-5864-49a2-a84f-ce62f8de5b6e"
      },
      "execution_count": 3,
      "outputs": [
        {
          "output_type": "execute_result",
          "data": {
            "text/plain": [
              "(129880, 24)"
            ]
          },
          "metadata": {},
          "execution_count": 3
        }
      ]
    },
    {
      "cell_type": "code",
      "source": [
        "df.isna().sum()"
      ],
      "metadata": {
        "colab": {
          "base_uri": "https://localhost:8080/"
        },
        "id": "HxpVg0LmRxuU",
        "outputId": "607cf412-4fbd-4ac4-cfc2-47ab6aa13650"
      },
      "execution_count": 4,
      "outputs": [
        {
          "output_type": "execute_result",
          "data": {
            "text/plain": [
              "ID                                          0\n",
              "Gender                                      0\n",
              "Age                                         0\n",
              "Customer Type                               0\n",
              "Type of Travel                              0\n",
              "Class                                       0\n",
              "Flight Distance                             0\n",
              "Departure Delay                             0\n",
              "Arrival Delay                             393\n",
              "Departure and Arrival Time Convenience      0\n",
              "Ease of Online Booking                      0\n",
              "Check-in Service                            0\n",
              "Online Boarding                             0\n",
              "Gate Location                               0\n",
              "On-board Service                            0\n",
              "Seat Comfort                                0\n",
              "Leg Room Service                            0\n",
              "Cleanliness                                 0\n",
              "Food and Drink                              0\n",
              "In-flight Service                           0\n",
              "In-flight Wifi Service                      0\n",
              "In-flight Entertainment                     0\n",
              "Baggage Handling                            0\n",
              "Satisfaction                                0\n",
              "dtype: int64"
            ]
          },
          "metadata": {},
          "execution_count": 4
        }
      ]
    },
    {
      "cell_type": "code",
      "source": [
        "#Replacing all spaces and - with underscores\n",
        "df.columns = df.columns.str.replace(' ', '_')\n",
        "df.columns = df.columns.str.replace('-', '_')"
      ],
      "metadata": {
        "id": "EPQoZ1YXGHA_"
      },
      "execution_count": 5,
      "outputs": []
    },
    {
      "cell_type": "code",
      "source": [
        "df.columns"
      ],
      "metadata": {
        "colab": {
          "base_uri": "https://localhost:8080/"
        },
        "id": "VRvvoEdtGI_j",
        "outputId": "4bbb425f-4dec-40e4-f76b-8805a525f7f3"
      },
      "execution_count": 6,
      "outputs": [
        {
          "output_type": "execute_result",
          "data": {
            "text/plain": [
              "Index(['ID', 'Gender', 'Age', 'Customer_Type', 'Type_of_Travel', 'Class',\n",
              "       'Flight_Distance', 'Departure_Delay', 'Arrival_Delay',\n",
              "       'Departure_and_Arrival_Time_Convenience', 'Ease_of_Online_Booking',\n",
              "       'Check_in_Service', 'Online_Boarding', 'Gate_Location',\n",
              "       'On_board_Service', 'Seat_Comfort', 'Leg_Room_Service', 'Cleanliness',\n",
              "       'Food_and_Drink', 'In_flight_Service', 'In_flight_Wifi_Service',\n",
              "       'In_flight_Entertainment', 'Baggage_Handling', 'Satisfaction'],\n",
              "      dtype='object')"
            ]
          },
          "metadata": {},
          "execution_count": 6
        }
      ]
    },
    {
      "cell_type": "code",
      "source": [
        "df = df[df['Arrival_Delay'].notna()]"
      ],
      "metadata": {
        "id": "fJAGaOysRzl_"
      },
      "execution_count": 7,
      "outputs": []
    },
    {
      "cell_type": "code",
      "source": [
        "#drop the ID column\n",
        "df = df.drop('ID', axis=1)"
      ],
      "metadata": {
        "id": "OU-LtXV-CeUa"
      },
      "execution_count": 8,
      "outputs": []
    },
    {
      "cell_type": "code",
      "source": [
        "df.isna().sum()"
      ],
      "metadata": {
        "colab": {
          "base_uri": "https://localhost:8080/"
        },
        "id": "Nsh5904nR2HX",
        "outputId": "62c94a11-16e9-4951-8043-8dd0e73db3bc"
      },
      "execution_count": 9,
      "outputs": [
        {
          "output_type": "execute_result",
          "data": {
            "text/plain": [
              "Gender                                    0\n",
              "Age                                       0\n",
              "Customer_Type                             0\n",
              "Type_of_Travel                            0\n",
              "Class                                     0\n",
              "Flight_Distance                           0\n",
              "Departure_Delay                           0\n",
              "Arrival_Delay                             0\n",
              "Departure_and_Arrival_Time_Convenience    0\n",
              "Ease_of_Online_Booking                    0\n",
              "Check_in_Service                          0\n",
              "Online_Boarding                           0\n",
              "Gate_Location                             0\n",
              "On_board_Service                          0\n",
              "Seat_Comfort                              0\n",
              "Leg_Room_Service                          0\n",
              "Cleanliness                               0\n",
              "Food_and_Drink                            0\n",
              "In_flight_Service                         0\n",
              "In_flight_Wifi_Service                    0\n",
              "In_flight_Entertainment                   0\n",
              "Baggage_Handling                          0\n",
              "Satisfaction                              0\n",
              "dtype: int64"
            ]
          },
          "metadata": {},
          "execution_count": 9
        }
      ]
    },
    {
      "cell_type": "code",
      "source": [
        "df.shape"
      ],
      "metadata": {
        "colab": {
          "base_uri": "https://localhost:8080/"
        },
        "id": "C21QNGwwR2o4",
        "outputId": "d6f9f5f2-8188-487e-b010-e0765fff51f7"
      },
      "execution_count": 10,
      "outputs": [
        {
          "output_type": "execute_result",
          "data": {
            "text/plain": [
              "(129487, 23)"
            ]
          },
          "metadata": {},
          "execution_count": 10
        }
      ]
    },
    {
      "cell_type": "code",
      "source": [
        "#convert satisfaction to numbers\n",
        "#gender\n",
        "#customer type\n",
        "#type of travel\n",
        "#class\n",
        "sat = {'Neutral or Dissatisfied': 0, 'Satisfied': 1}\n",
        "df.loc[:,'Satisfaction'] = df['Satisfaction'].map(sat)\n",
        "\n",
        "gd = {'Female':0, 'Male':1}\n",
        "df.loc[:,'Gender'] = df['Gender'].map(gd)\n",
        "\n",
        "ct = {'First-time':0, 'Returning':1}\n",
        "df.loc[:,'Customer_Type'] = df['Customer_Type'].map(ct)\n",
        "\n",
        "tt = {'Business':0, 'Personal':1}\n",
        "df.loc[:,'Type_of_Travel'] = df['Type_of_Travel'].map(tt)\n",
        "\n",
        "cl = {'Business':0, 'Economy Plus': 1, 'Economy' : 2}\n",
        "df.loc[:,'Class'] = df['Class'].map(cl)\n"
      ],
      "metadata": {
        "id": "_eCXvB1C1pB7"
      },
      "execution_count": 11,
      "outputs": []
    },
    {
      "cell_type": "code",
      "source": [
        "df['Satisfaction'] = df['Satisfaction'].astype('int64')\n",
        "df['Gender'] = df['Gender'].astype('int64')\n",
        "df['Customer_Type'] = df['Customer_Type'].astype('int64')\n",
        "df['Type_of_Travel'] = df['Type_of_Travel'].astype('int64')\n",
        "df['Class'] = df['Class'].astype('int64')"
      ],
      "metadata": {
        "id": "LYHAzESd6qoH"
      },
      "execution_count": 12,
      "outputs": []
    },
    {
      "cell_type": "code",
      "source": [
        "df.dtypes"
      ],
      "metadata": {
        "colab": {
          "base_uri": "https://localhost:8080/"
        },
        "id": "j9SyWd4vCJuL",
        "outputId": "9ad891cd-579b-4a6a-a1f2-c86d97273dfa"
      },
      "execution_count": 13,
      "outputs": [
        {
          "output_type": "execute_result",
          "data": {
            "text/plain": [
              "Gender                                      int64\n",
              "Age                                         int64\n",
              "Customer_Type                               int64\n",
              "Type_of_Travel                              int64\n",
              "Class                                       int64\n",
              "Flight_Distance                             int64\n",
              "Departure_Delay                             int64\n",
              "Arrival_Delay                             float64\n",
              "Departure_and_Arrival_Time_Convenience      int64\n",
              "Ease_of_Online_Booking                      int64\n",
              "Check_in_Service                            int64\n",
              "Online_Boarding                             int64\n",
              "Gate_Location                               int64\n",
              "On_board_Service                            int64\n",
              "Seat_Comfort                                int64\n",
              "Leg_Room_Service                            int64\n",
              "Cleanliness                                 int64\n",
              "Food_and_Drink                              int64\n",
              "In_flight_Service                           int64\n",
              "In_flight_Wifi_Service                      int64\n",
              "In_flight_Entertainment                     int64\n",
              "Baggage_Handling                            int64\n",
              "Satisfaction                                int64\n",
              "dtype: object"
            ]
          },
          "metadata": {},
          "execution_count": 13
        }
      ]
    },
    {
      "cell_type": "code",
      "source": [
        "df.head()"
      ],
      "metadata": {
        "colab": {
          "base_uri": "https://localhost:8080/",
          "height": 226
        },
        "id": "WImFwP7D57V8",
        "outputId": "555c0643-8f05-4424-c661-5e844afb7bea"
      },
      "execution_count": 14,
      "outputs": [
        {
          "output_type": "execute_result",
          "data": {
            "text/plain": [
              "   Gender  Age  Customer_Type  Type_of_Travel  Class  Flight_Distance  \\\n",
              "0       1   48              0               0      0              821   \n",
              "1       0   35              1               0      0              821   \n",
              "2       1   41              1               0      0              853   \n",
              "3       1   50              1               0      0             1905   \n",
              "4       0   49              1               0      0             3470   \n",
              "\n",
              "   Departure_Delay  Arrival_Delay  Departure_and_Arrival_Time_Convenience  \\\n",
              "0                2            5.0                                       3   \n",
              "1               26           39.0                                       2   \n",
              "2                0            0.0                                       4   \n",
              "3                0            0.0                                       2   \n",
              "4                0            1.0                                       3   \n",
              "\n",
              "   Ease_of_Online_Booking  Check_in_Service  Online_Boarding  Gate_Location  \\\n",
              "0                       3                 4                3              3   \n",
              "1                       2                 3                5              2   \n",
              "2                       4                 4                5              4   \n",
              "3                       2                 3                4              2   \n",
              "4                       3                 3                5              3   \n",
              "\n",
              "   On_board_Service  Seat_Comfort  Leg_Room_Service  Cleanliness  \\\n",
              "0                 3             5                 2            5   \n",
              "1                 5             4                 5            5   \n",
              "2                 3             5                 3            5   \n",
              "3                 5             5                 5            4   \n",
              "4                 3             4                 4            5   \n",
              "\n",
              "   Food_and_Drink  In_flight_Service  In_flight_Wifi_Service  \\\n",
              "0               5                  5                       3   \n",
              "1               3                  5                       2   \n",
              "2               5                  3                       4   \n",
              "3               4                  5                       2   \n",
              "4               4                  3                       3   \n",
              "\n",
              "   In_flight_Entertainment  Baggage_Handling  Satisfaction  \n",
              "0                        5                 5             0  \n",
              "1                        5                 5             1  \n",
              "2                        3                 3             1  \n",
              "3                        5                 5             1  \n",
              "4                        3                 3             1  "
            ],
            "text/html": [
              "\n",
              "  <div id=\"df-d96bbe4e-b36f-4ce7-a2b9-8d67ee2c2b6a\" class=\"colab-df-container\">\n",
              "    <div>\n",
              "<style scoped>\n",
              "    .dataframe tbody tr th:only-of-type {\n",
              "        vertical-align: middle;\n",
              "    }\n",
              "\n",
              "    .dataframe tbody tr th {\n",
              "        vertical-align: top;\n",
              "    }\n",
              "\n",
              "    .dataframe thead th {\n",
              "        text-align: right;\n",
              "    }\n",
              "</style>\n",
              "<table border=\"1\" class=\"dataframe\">\n",
              "  <thead>\n",
              "    <tr style=\"text-align: right;\">\n",
              "      <th></th>\n",
              "      <th>Gender</th>\n",
              "      <th>Age</th>\n",
              "      <th>Customer_Type</th>\n",
              "      <th>Type_of_Travel</th>\n",
              "      <th>Class</th>\n",
              "      <th>Flight_Distance</th>\n",
              "      <th>Departure_Delay</th>\n",
              "      <th>Arrival_Delay</th>\n",
              "      <th>Departure_and_Arrival_Time_Convenience</th>\n",
              "      <th>Ease_of_Online_Booking</th>\n",
              "      <th>Check_in_Service</th>\n",
              "      <th>Online_Boarding</th>\n",
              "      <th>Gate_Location</th>\n",
              "      <th>On_board_Service</th>\n",
              "      <th>Seat_Comfort</th>\n",
              "      <th>Leg_Room_Service</th>\n",
              "      <th>Cleanliness</th>\n",
              "      <th>Food_and_Drink</th>\n",
              "      <th>In_flight_Service</th>\n",
              "      <th>In_flight_Wifi_Service</th>\n",
              "      <th>In_flight_Entertainment</th>\n",
              "      <th>Baggage_Handling</th>\n",
              "      <th>Satisfaction</th>\n",
              "    </tr>\n",
              "  </thead>\n",
              "  <tbody>\n",
              "    <tr>\n",
              "      <th>0</th>\n",
              "      <td>1</td>\n",
              "      <td>48</td>\n",
              "      <td>0</td>\n",
              "      <td>0</td>\n",
              "      <td>0</td>\n",
              "      <td>821</td>\n",
              "      <td>2</td>\n",
              "      <td>5.0</td>\n",
              "      <td>3</td>\n",
              "      <td>3</td>\n",
              "      <td>4</td>\n",
              "      <td>3</td>\n",
              "      <td>3</td>\n",
              "      <td>3</td>\n",
              "      <td>5</td>\n",
              "      <td>2</td>\n",
              "      <td>5</td>\n",
              "      <td>5</td>\n",
              "      <td>5</td>\n",
              "      <td>3</td>\n",
              "      <td>5</td>\n",
              "      <td>5</td>\n",
              "      <td>0</td>\n",
              "    </tr>\n",
              "    <tr>\n",
              "      <th>1</th>\n",
              "      <td>0</td>\n",
              "      <td>35</td>\n",
              "      <td>1</td>\n",
              "      <td>0</td>\n",
              "      <td>0</td>\n",
              "      <td>821</td>\n",
              "      <td>26</td>\n",
              "      <td>39.0</td>\n",
              "      <td>2</td>\n",
              "      <td>2</td>\n",
              "      <td>3</td>\n",
              "      <td>5</td>\n",
              "      <td>2</td>\n",
              "      <td>5</td>\n",
              "      <td>4</td>\n",
              "      <td>5</td>\n",
              "      <td>5</td>\n",
              "      <td>3</td>\n",
              "      <td>5</td>\n",
              "      <td>2</td>\n",
              "      <td>5</td>\n",
              "      <td>5</td>\n",
              "      <td>1</td>\n",
              "    </tr>\n",
              "    <tr>\n",
              "      <th>2</th>\n",
              "      <td>1</td>\n",
              "      <td>41</td>\n",
              "      <td>1</td>\n",
              "      <td>0</td>\n",
              "      <td>0</td>\n",
              "      <td>853</td>\n",
              "      <td>0</td>\n",
              "      <td>0.0</td>\n",
              "      <td>4</td>\n",
              "      <td>4</td>\n",
              "      <td>4</td>\n",
              "      <td>5</td>\n",
              "      <td>4</td>\n",
              "      <td>3</td>\n",
              "      <td>5</td>\n",
              "      <td>3</td>\n",
              "      <td>5</td>\n",
              "      <td>5</td>\n",
              "      <td>3</td>\n",
              "      <td>4</td>\n",
              "      <td>3</td>\n",
              "      <td>3</td>\n",
              "      <td>1</td>\n",
              "    </tr>\n",
              "    <tr>\n",
              "      <th>3</th>\n",
              "      <td>1</td>\n",
              "      <td>50</td>\n",
              "      <td>1</td>\n",
              "      <td>0</td>\n",
              "      <td>0</td>\n",
              "      <td>1905</td>\n",
              "      <td>0</td>\n",
              "      <td>0.0</td>\n",
              "      <td>2</td>\n",
              "      <td>2</td>\n",
              "      <td>3</td>\n",
              "      <td>4</td>\n",
              "      <td>2</td>\n",
              "      <td>5</td>\n",
              "      <td>5</td>\n",
              "      <td>5</td>\n",
              "      <td>4</td>\n",
              "      <td>4</td>\n",
              "      <td>5</td>\n",
              "      <td>2</td>\n",
              "      <td>5</td>\n",
              "      <td>5</td>\n",
              "      <td>1</td>\n",
              "    </tr>\n",
              "    <tr>\n",
              "      <th>4</th>\n",
              "      <td>0</td>\n",
              "      <td>49</td>\n",
              "      <td>1</td>\n",
              "      <td>0</td>\n",
              "      <td>0</td>\n",
              "      <td>3470</td>\n",
              "      <td>0</td>\n",
              "      <td>1.0</td>\n",
              "      <td>3</td>\n",
              "      <td>3</td>\n",
              "      <td>3</td>\n",
              "      <td>5</td>\n",
              "      <td>3</td>\n",
              "      <td>3</td>\n",
              "      <td>4</td>\n",
              "      <td>4</td>\n",
              "      <td>5</td>\n",
              "      <td>4</td>\n",
              "      <td>3</td>\n",
              "      <td>3</td>\n",
              "      <td>3</td>\n",
              "      <td>3</td>\n",
              "      <td>1</td>\n",
              "    </tr>\n",
              "  </tbody>\n",
              "</table>\n",
              "</div>\n",
              "    <div class=\"colab-df-buttons\">\n",
              "\n",
              "  <div class=\"colab-df-container\">\n",
              "    <button class=\"colab-df-convert\" onclick=\"convertToInteractive('df-d96bbe4e-b36f-4ce7-a2b9-8d67ee2c2b6a')\"\n",
              "            title=\"Convert this dataframe to an interactive table.\"\n",
              "            style=\"display:none;\">\n",
              "\n",
              "  <svg xmlns=\"http://www.w3.org/2000/svg\" height=\"24px\" viewBox=\"0 -960 960 960\">\n",
              "    <path d=\"M120-120v-720h720v720H120Zm60-500h600v-160H180v160Zm220 220h160v-160H400v160Zm0 220h160v-160H400v160ZM180-400h160v-160H180v160Zm440 0h160v-160H620v160ZM180-180h160v-160H180v160Zm440 0h160v-160H620v160Z\"/>\n",
              "  </svg>\n",
              "    </button>\n",
              "\n",
              "  <style>\n",
              "    .colab-df-container {\n",
              "      display:flex;\n",
              "      gap: 12px;\n",
              "    }\n",
              "\n",
              "    .colab-df-convert {\n",
              "      background-color: #E8F0FE;\n",
              "      border: none;\n",
              "      border-radius: 50%;\n",
              "      cursor: pointer;\n",
              "      display: none;\n",
              "      fill: #1967D2;\n",
              "      height: 32px;\n",
              "      padding: 0 0 0 0;\n",
              "      width: 32px;\n",
              "    }\n",
              "\n",
              "    .colab-df-convert:hover {\n",
              "      background-color: #E2EBFA;\n",
              "      box-shadow: 0px 1px 2px rgba(60, 64, 67, 0.3), 0px 1px 3px 1px rgba(60, 64, 67, 0.15);\n",
              "      fill: #174EA6;\n",
              "    }\n",
              "\n",
              "    .colab-df-buttons div {\n",
              "      margin-bottom: 4px;\n",
              "    }\n",
              "\n",
              "    [theme=dark] .colab-df-convert {\n",
              "      background-color: #3B4455;\n",
              "      fill: #D2E3FC;\n",
              "    }\n",
              "\n",
              "    [theme=dark] .colab-df-convert:hover {\n",
              "      background-color: #434B5C;\n",
              "      box-shadow: 0px 1px 3px 1px rgba(0, 0, 0, 0.15);\n",
              "      filter: drop-shadow(0px 1px 2px rgba(0, 0, 0, 0.3));\n",
              "      fill: #FFFFFF;\n",
              "    }\n",
              "  </style>\n",
              "\n",
              "    <script>\n",
              "      const buttonEl =\n",
              "        document.querySelector('#df-d96bbe4e-b36f-4ce7-a2b9-8d67ee2c2b6a button.colab-df-convert');\n",
              "      buttonEl.style.display =\n",
              "        google.colab.kernel.accessAllowed ? 'block' : 'none';\n",
              "\n",
              "      async function convertToInteractive(key) {\n",
              "        const element = document.querySelector('#df-d96bbe4e-b36f-4ce7-a2b9-8d67ee2c2b6a');\n",
              "        const dataTable =\n",
              "          await google.colab.kernel.invokeFunction('convertToInteractive',\n",
              "                                                    [key], {});\n",
              "        if (!dataTable) return;\n",
              "\n",
              "        const docLinkHtml = 'Like what you see? Visit the ' +\n",
              "          '<a target=\"_blank\" href=https://colab.research.google.com/notebooks/data_table.ipynb>data table notebook</a>'\n",
              "          + ' to learn more about interactive tables.';\n",
              "        element.innerHTML = '';\n",
              "        dataTable['output_type'] = 'display_data';\n",
              "        await google.colab.output.renderOutput(dataTable, element);\n",
              "        const docLink = document.createElement('div');\n",
              "        docLink.innerHTML = docLinkHtml;\n",
              "        element.appendChild(docLink);\n",
              "      }\n",
              "    </script>\n",
              "  </div>\n",
              "\n",
              "\n",
              "<div id=\"df-077b29bc-ca2f-41db-b447-f79840804dcc\">\n",
              "  <button class=\"colab-df-quickchart\" onclick=\"quickchart('df-077b29bc-ca2f-41db-b447-f79840804dcc')\"\n",
              "            title=\"Suggest charts\"\n",
              "            style=\"display:none;\">\n",
              "\n",
              "<svg xmlns=\"http://www.w3.org/2000/svg\" height=\"24px\"viewBox=\"0 0 24 24\"\n",
              "     width=\"24px\">\n",
              "    <g>\n",
              "        <path d=\"M19 3H5c-1.1 0-2 .9-2 2v14c0 1.1.9 2 2 2h14c1.1 0 2-.9 2-2V5c0-1.1-.9-2-2-2zM9 17H7v-7h2v7zm4 0h-2V7h2v10zm4 0h-2v-4h2v4z\"/>\n",
              "    </g>\n",
              "</svg>\n",
              "  </button>\n",
              "\n",
              "<style>\n",
              "  .colab-df-quickchart {\n",
              "      --bg-color: #E8F0FE;\n",
              "      --fill-color: #1967D2;\n",
              "      --hover-bg-color: #E2EBFA;\n",
              "      --hover-fill-color: #174EA6;\n",
              "      --disabled-fill-color: #AAA;\n",
              "      --disabled-bg-color: #DDD;\n",
              "  }\n",
              "\n",
              "  [theme=dark] .colab-df-quickchart {\n",
              "      --bg-color: #3B4455;\n",
              "      --fill-color: #D2E3FC;\n",
              "      --hover-bg-color: #434B5C;\n",
              "      --hover-fill-color: #FFFFFF;\n",
              "      --disabled-bg-color: #3B4455;\n",
              "      --disabled-fill-color: #666;\n",
              "  }\n",
              "\n",
              "  .colab-df-quickchart {\n",
              "    background-color: var(--bg-color);\n",
              "    border: none;\n",
              "    border-radius: 50%;\n",
              "    cursor: pointer;\n",
              "    display: none;\n",
              "    fill: var(--fill-color);\n",
              "    height: 32px;\n",
              "    padding: 0;\n",
              "    width: 32px;\n",
              "  }\n",
              "\n",
              "  .colab-df-quickchart:hover {\n",
              "    background-color: var(--hover-bg-color);\n",
              "    box-shadow: 0 1px 2px rgba(60, 64, 67, 0.3), 0 1px 3px 1px rgba(60, 64, 67, 0.15);\n",
              "    fill: var(--button-hover-fill-color);\n",
              "  }\n",
              "\n",
              "  .colab-df-quickchart-complete:disabled,\n",
              "  .colab-df-quickchart-complete:disabled:hover {\n",
              "    background-color: var(--disabled-bg-color);\n",
              "    fill: var(--disabled-fill-color);\n",
              "    box-shadow: none;\n",
              "  }\n",
              "\n",
              "  .colab-df-spinner {\n",
              "    border: 2px solid var(--fill-color);\n",
              "    border-color: transparent;\n",
              "    border-bottom-color: var(--fill-color);\n",
              "    animation:\n",
              "      spin 1s steps(1) infinite;\n",
              "  }\n",
              "\n",
              "  @keyframes spin {\n",
              "    0% {\n",
              "      border-color: transparent;\n",
              "      border-bottom-color: var(--fill-color);\n",
              "      border-left-color: var(--fill-color);\n",
              "    }\n",
              "    20% {\n",
              "      border-color: transparent;\n",
              "      border-left-color: var(--fill-color);\n",
              "      border-top-color: var(--fill-color);\n",
              "    }\n",
              "    30% {\n",
              "      border-color: transparent;\n",
              "      border-left-color: var(--fill-color);\n",
              "      border-top-color: var(--fill-color);\n",
              "      border-right-color: var(--fill-color);\n",
              "    }\n",
              "    40% {\n",
              "      border-color: transparent;\n",
              "      border-right-color: var(--fill-color);\n",
              "      border-top-color: var(--fill-color);\n",
              "    }\n",
              "    60% {\n",
              "      border-color: transparent;\n",
              "      border-right-color: var(--fill-color);\n",
              "    }\n",
              "    80% {\n",
              "      border-color: transparent;\n",
              "      border-right-color: var(--fill-color);\n",
              "      border-bottom-color: var(--fill-color);\n",
              "    }\n",
              "    90% {\n",
              "      border-color: transparent;\n",
              "      border-bottom-color: var(--fill-color);\n",
              "    }\n",
              "  }\n",
              "</style>\n",
              "\n",
              "  <script>\n",
              "    async function quickchart(key) {\n",
              "      const quickchartButtonEl =\n",
              "        document.querySelector('#' + key + ' button');\n",
              "      quickchartButtonEl.disabled = true;  // To prevent multiple clicks.\n",
              "      quickchartButtonEl.classList.add('colab-df-spinner');\n",
              "      try {\n",
              "        const charts = await google.colab.kernel.invokeFunction(\n",
              "            'suggestCharts', [key], {});\n",
              "      } catch (error) {\n",
              "        console.error('Error during call to suggestCharts:', error);\n",
              "      }\n",
              "      quickchartButtonEl.classList.remove('colab-df-spinner');\n",
              "      quickchartButtonEl.classList.add('colab-df-quickchart-complete');\n",
              "    }\n",
              "    (() => {\n",
              "      let quickchartButtonEl =\n",
              "        document.querySelector('#df-077b29bc-ca2f-41db-b447-f79840804dcc button');\n",
              "      quickchartButtonEl.style.display =\n",
              "        google.colab.kernel.accessAllowed ? 'block' : 'none';\n",
              "    })();\n",
              "  </script>\n",
              "</div>\n",
              "    </div>\n",
              "  </div>\n"
            ],
            "application/vnd.google.colaboratory.intrinsic+json": {
              "type": "dataframe",
              "variable_name": "df"
            }
          },
          "metadata": {},
          "execution_count": 14
        }
      ]
    },
    {
      "cell_type": "code",
      "source": [
        "from sklearn.model_selection import train_test_split\n",
        "df_train, df_test = train_test_split(df, test_size=0.3, stratify=df['Satisfaction'], random_state=88)\n",
        "df_train.shape, df_test.shape"
      ],
      "metadata": {
        "colab": {
          "base_uri": "https://localhost:8080/"
        },
        "id": "XPhqzeLv5R5j",
        "outputId": "a265d701-32e9-4936-ce0c-caef232e1c10"
      },
      "execution_count": 15,
      "outputs": [
        {
          "output_type": "execute_result",
          "data": {
            "text/plain": [
              "((90640, 23), (38847, 23))"
            ]
          },
          "metadata": {},
          "execution_count": 15
        }
      ]
    },
    {
      "cell_type": "code",
      "source": [
        "#Applying logistic regression\n",
        "\n",
        "import statsmodels.formula.api as smf\n",
        "\n",
        "logreg = smf.logit(formula = 'Satisfaction ~ Gender + Age + Customer_Type + Type_of_Travel + Class + Flight_Distance + Departure_Delay + Arrival_Delay + Departure_and_Arrival_Time_Convenience + Ease_of_Online_Booking + Check_in_Service + Online_Boarding + Gate_Location + On_board_Service + Seat_Comfort + Leg_Room_Service + Cleanliness + Food_and_Drink + In_flight_Service + In_flight_Wifi_Service + In_flight_Entertainment + Baggage_Handling',\n",
        "                   data = df_train).fit()\n",
        "print(logreg.summary())"
      ],
      "metadata": {
        "colab": {
          "base_uri": "https://localhost:8080/"
        },
        "id": "pmzpAQDZ4jqD",
        "outputId": "1902af79-20d6-490a-b995-f8d61ef6e55f"
      },
      "execution_count": 16,
      "outputs": [
        {
          "output_type": "stream",
          "name": "stdout",
          "text": [
            "Optimization terminated successfully.\n",
            "         Current function value: 0.335322\n",
            "         Iterations 7\n",
            "                           Logit Regression Results                           \n",
            "==============================================================================\n",
            "Dep. Variable:           Satisfaction   No. Observations:                90640\n",
            "Model:                          Logit   Df Residuals:                    90617\n",
            "Method:                           MLE   Df Model:                           22\n",
            "Date:                Thu, 09 May 2024   Pseudo R-squ.:                  0.5102\n",
            "Time:                        18:55:31   Log-Likelihood:                -30394.\n",
            "converged:                       True   LL-Null:                       -62047.\n",
            "Covariance Type:            nonrobust   LLR p-value:                     0.000\n",
            "==========================================================================================================\n",
            "                                             coef    std err          z      P>|z|      [0.025      0.975]\n",
            "----------------------------------------------------------------------------------------------------------\n",
            "Intercept                                 -7.8654      0.083    -94.223      0.000      -8.029      -7.702\n",
            "Gender                                     0.0870      0.021      4.186      0.000       0.046       0.128\n",
            "Age                                       -0.0080      0.001    -10.490      0.000      -0.009      -0.006\n",
            "Customer_Type                              1.9964      0.032     63.100      0.000       1.934       2.058\n",
            "Type_of_Travel                            -2.7312      0.033    -81.644      0.000      -2.797      -2.666\n",
            "Class                                     -0.3625      0.014    -26.560      0.000      -0.389      -0.336\n",
            "Flight_Distance                         2.651e-06   1.19e-05      0.223      0.824   -2.07e-05     2.6e-05\n",
            "Departure_Delay                            0.0039      0.001      3.747      0.000       0.002       0.006\n",
            "Arrival_Delay                             -0.0089      0.001     -8.600      0.000      -0.011      -0.007\n",
            "Departure_and_Arrival_Time_Convenience    -0.1314      0.009    -15.032      0.000      -0.149      -0.114\n",
            "Ease_of_Online_Booking                    -0.1573      0.012    -13.026      0.000      -0.181      -0.134\n",
            "Check_in_Service                           0.3323      0.009     36.437      0.000       0.314       0.350\n",
            "Online_Boarding                            0.6148      0.011     56.247      0.000       0.593       0.636\n",
            "Gate_Location                              0.0280      0.010      2.867      0.004       0.009       0.047\n",
            "On_board_Service                           0.3088      0.011     28.444      0.000       0.287       0.330\n",
            "Seat_Comfort                               0.0633      0.012      5.291      0.000       0.040       0.087\n",
            "Leg_Room_Service                           0.2483      0.009     27.340      0.000       0.230       0.266\n",
            "Cleanliness                                0.2256      0.013     17.506      0.000       0.200       0.251\n",
            "Food_and_Drink                            -0.0347      0.011     -3.044      0.002      -0.057      -0.012\n",
            "In_flight_Service                          0.1095      0.013      8.533      0.000       0.084       0.135\n",
            "In_flight_Wifi_Service                     0.3913      0.012     32.032      0.000       0.367       0.415\n",
            "In_flight_Entertainment                    0.0702      0.015      4.626      0.000       0.040       0.100\n",
            "Baggage_Handling                           0.1394      0.012     11.426      0.000       0.115       0.163\n",
            "==========================================================================================================\n"
          ]
        }
      ]
    },
    {
      "cell_type": "code",
      "source": [
        "y_test = df_test['Satisfaction']\n",
        "\n",
        "y_prob = logreg.predict(df_test)\n"
      ],
      "metadata": {
        "id": "DI5mwh4XJTCd"
      },
      "execution_count": 17,
      "outputs": []
    },
    {
      "cell_type": "code",
      "source": [
        "y_prob"
      ],
      "metadata": {
        "colab": {
          "base_uri": "https://localhost:8080/"
        },
        "id": "O7pyMOxjIrA2",
        "outputId": "2a9601c6-4cd2-4f10-a19a-3d1001f90d4a"
      },
      "execution_count": 18,
      "outputs": [
        {
          "output_type": "execute_result",
          "data": {
            "text/plain": [
              "111317    0.820773\n",
              "59704     0.079164\n",
              "72095     0.003572\n",
              "1740      0.002880\n",
              "94455     0.156858\n",
              "            ...   \n",
              "6898      0.108994\n",
              "92115     0.020110\n",
              "104965    0.914061\n",
              "76309     0.904300\n",
              "92639     0.056325\n",
              "Length: 38847, dtype: float64"
            ]
          },
          "metadata": {},
          "execution_count": 18
        }
      ]
    },
    {
      "cell_type": "code",
      "source": [
        "y_pred = pd.Series([1 if x > 0.5 else 0 for x in y_prob], index=y_prob.index)"
      ],
      "metadata": {
        "id": "bvruaN9YJf36"
      },
      "execution_count": 19,
      "outputs": []
    },
    {
      "cell_type": "code",
      "source": [
        "y_pred"
      ],
      "metadata": {
        "colab": {
          "base_uri": "https://localhost:8080/"
        },
        "id": "8MTv3OcIJgd0",
        "outputId": "4a88494f-1bb5-4566-c55c-081a36d90049"
      },
      "execution_count": 20,
      "outputs": [
        {
          "output_type": "execute_result",
          "data": {
            "text/plain": [
              "111317    1\n",
              "59704     0\n",
              "72095     0\n",
              "1740      0\n",
              "94455     0\n",
              "         ..\n",
              "6898      0\n",
              "92115     0\n",
              "104965    1\n",
              "76309     1\n",
              "92639     0\n",
              "Length: 38847, dtype: int64"
            ]
          },
          "metadata": {},
          "execution_count": 20
        }
      ]
    },
    {
      "cell_type": "code",
      "source": [
        "from sklearn.metrics import confusion_matrix\n",
        "\n",
        "cm = confusion_matrix(y_test, y_pred)\n",
        "print (\"Confusion Matrix : \\n\", cm.ravel())"
      ],
      "metadata": {
        "colab": {
          "base_uri": "https://localhost:8080/"
        },
        "id": "3uD3RQYFJiGw",
        "outputId": "64c25c14-5bde-4830-e9f1-c9b2b16b263f"
      },
      "execution_count": 21,
      "outputs": [
        {
          "output_type": "stream",
          "name": "stdout",
          "text": [
            "Confusion Matrix : \n",
            " [19832  2136  2790 14089]\n"
          ]
        }
      ]
    },
    {
      "cell_type": "code",
      "source": [
        "TN, FP, FN, TP = cm.ravel()"
      ],
      "metadata": {
        "id": "leS5Em4bJlWG"
      },
      "execution_count": 22,
      "outputs": []
    },
    {
      "cell_type": "code",
      "source": [
        "accuracy = (TP + TN) / (TP + TN + FP + FN)\n",
        "print(\"Accuracy:\", accuracy)"
      ],
      "metadata": {
        "colab": {
          "base_uri": "https://localhost:8080/"
        },
        "id": "fULbdSEjJsTa",
        "outputId": "9ce57c1e-a141-4caf-f99b-c34ba018b3bc"
      },
      "execution_count": 23,
      "outputs": [
        {
          "output_type": "stream",
          "name": "stdout",
          "text": [
            "Accuracy: 0.8731948413004865\n"
          ]
        }
      ]
    },
    {
      "cell_type": "code",
      "source": [
        "TPR = TP / (TP + FN)\n",
        "FPR = FP / (FP + TN)\n",
        "print(\"True Positive Rate (TPR):\", TPR)\n",
        "print(\"False Positive Rate (FPR):\", FPR)"
      ],
      "metadata": {
        "colab": {
          "base_uri": "https://localhost:8080/"
        },
        "id": "aUYgZEfhJtaG",
        "outputId": "7d3234c0-0171-4b94-b6e2-a9cd67b2589c"
      },
      "execution_count": 24,
      "outputs": [
        {
          "output_type": "stream",
          "name": "stdout",
          "text": [
            "True Positive Rate (TPR): 0.8347058475028142\n",
            "False Positive Rate (FPR): 0.09723233794610342\n"
          ]
        }
      ]
    },
    {
      "cell_type": "code",
      "source": [
        "import matplotlib.pyplot as plt\n",
        "from sklearn.metrics import roc_curve, auc\n",
        "\n",
        "fpr, tpr, _ = roc_curve(y_test, y_prob)\n",
        "roc_auc = auc(fpr, tpr)\n",
        "\n",
        "plt.figure(figsize=(8, 6))\n",
        "plt.title('ROC Curve', fontsize=18)\n",
        "plt.xlabel('FPR', fontsize=16)\n",
        "plt.ylabel('TPR', fontsize=16)\n",
        "plt.xlim([-0.01, 1.00])\n",
        "plt.ylim([-0.01, 1.01])\n",
        "plt.plot(fpr, tpr, lw=3, label='Logistic Regression (area = {:0.2f})'.format(roc_auc))\n",
        "plt.plot([0, 1], [0, 1], color='navy', lw=3, linestyle='--')\n",
        "plt.legend(loc='lower right', fontsize=14)\n",
        "plt.show()"
      ],
      "metadata": {
        "colab": {
          "base_uri": "https://localhost:8080/",
          "height": 575
        },
        "id": "mcNYR1-IJxEX",
        "outputId": "d9b1242a-97cc-4ce4-90d5-aecefe5ef2e1"
      },
      "execution_count": 25,
      "outputs": [
        {
          "output_type": "display_data",
          "data": {
            "text/plain": [
              "<Figure size 800x600 with 1 Axes>"
            ],
            "image/png": "[encoded data removed]"
          },
          "metadata": {}
        }
      ]
    },
    {
      "cell_type": "code",
      "source": [
        "#Decision Tree Classifier"
      ],
      "metadata": {
        "id": "xHn7j-rKH1Zm"
      },
      "execution_count": 26,
      "outputs": []
    },
    {
      "cell_type": "code",
      "source": [
        "from sklearn.model_selection import train_test_split\n",
        "\n",
        "y = df['Satisfaction']\n",
        "X = df.drop('Satisfaction', axis=1)\n",
        "\n",
        "X_train, X_test, y_train, y_test = train_test_split(X, y,\n",
        "                                                    test_size=0.3,\n",
        "                                                    stratify=df['Satisfaction'],\n",
        "                                                    random_state=88)\n",
        "X_train.shape, X_test.shape"
      ],
      "metadata": {
        "id": "gXiQ33Y27Hdu",
        "colab": {
          "base_uri": "https://localhost:8080/"
        },
        "outputId": "a98ae183-ceb2-4556-9dd0-f485a3cfdf81"
      },
      "execution_count": 27,
      "outputs": [
        {
          "output_type": "execute_result",
          "data": {
            "text/plain": [
              "((90640, 22), (38847, 22))"
            ]
          },
          "metadata": {},
          "execution_count": 27
        }
      ]
    },
    {
      "cell_type": "code",
      "source": [
        "from sklearn.model_selection import GridSearchCV\n",
        "from sklearn.tree import DecisionTreeClassifier\n",
        "from sklearn.metrics import roc_auc_score, make_scorer\n",
        "tree = DecisionTreeClassifier(random_state=88)\n",
        "# Define the parameter grid\n",
        "param_grid = {'max_depth': range(1, 11)}  # Explore depths from 1 to 10\n",
        "# Define the scoring function\n",
        "scorer = make_scorer(roc_auc_score, needs_proba=True)\n",
        "# Setup the GridSearchCV object\n",
        "grid_search = GridSearchCV(estimator=tree, param_grid=param_grid, scoring=scorer, cv=5)\n",
        "grid_search.fit(X_train, y_train)\n",
        "# Best depth found\n",
        "best_depth = grid_search.best_params_['max_depth']\n",
        "print(\"Best depth:\", best_depth)\n",
        "print(\"Best cross-validation AUC:\", grid_search.best_score_)\n",
        "# Best model\n",
        "best_tree = grid_search.best_estimator_"
      ],
      "metadata": {
        "colab": {
          "base_uri": "https://localhost:8080/"
        },
        "id": "-eky7gOSvAIl",
        "outputId": "835615f1-b847-46af-8080-c65f61075c30"
      },
      "execution_count": 28,
      "outputs": [
        {
          "output_type": "stream",
          "name": "stdout",
          "text": [
            "Best depth: 10\n",
            "Best cross-validation AUC: 0.9857209012944796\n"
          ]
        }
      ]
    },
    {
      "cell_type": "code",
      "source": [
        "from sklearn.metrics import confusion_matrix\n",
        "from sklearn.metrics import accuracy_score\n",
        "from sklearn.metrics import recall_score\n",
        "\n",
        "y_pred = best_tree.predict(X_test)\n",
        "cm = confusion_matrix(y_test, y_pred)\n",
        "\n",
        "print (\"Confusion Matrix : \\n\", cm)\n",
        "print('Accuracy:',accuracy_score(y_test, y_pred))\n",
        "# Extracting TP, TN, FP, FN from the confusion matrix\n",
        "TP = cm[1, 1]\n",
        "TN = cm[0, 0]\n",
        "FP = cm[0, 1]\n",
        "FN = cm[1, 0]\n",
        "\n",
        "# Calculating TPR and FPR\n",
        "TPR = TP / (TP + FN)\n",
        "FPR = FP / (FP + TN)\n",
        "\n",
        "print('True Positive Rate (TPR):', TPR)\n",
        "print('False Positive Rate (FPR):', FPR)\n"
      ],
      "metadata": {
        "colab": {
          "base_uri": "https://localhost:8080/"
        },
        "id": "DrOVT4aruGQL",
        "outputId": "fd7e4147-4a02-418c-c313-c6aaf11b608f"
      },
      "execution_count": 29,
      "outputs": [
        {
          "output_type": "stream",
          "name": "stdout",
          "text": [
            "Confusion Matrix : \n",
            " [[21182   786]\n",
            " [ 1378 15501]]\n",
            "Accuracy: 0.9442942826987927\n",
            "True Positive Rate (TPR): 0.9183600924225369\n",
            "False Positive Rate (FPR): 0.03577931536780772\n"
          ]
        }
      ]
    },
    {
      "cell_type": "code",
      "source": [
        "from sklearn.metrics import roc_auc_score\n",
        "train_probs = best_tree.predict_proba(X_train)[:, 1]\n",
        "train_auc = (roc_auc_score(y_train, train_probs))\n",
        "test_probs = best_tree.predict_proba(X_test)[:, 1]\n",
        "test_auc = (roc_auc_score(y_test, test_probs))"
      ],
      "metadata": {
        "id": "6jtrrleVuLzT"
      },
      "execution_count": 30,
      "outputs": []
    },
    {
      "cell_type": "code",
      "source": [
        "print(train_auc)\n",
        "print(test_auc)"
      ],
      "metadata": {
        "colab": {
          "base_uri": "https://localhost:8080/"
        },
        "id": "nIAfLm3ru4oQ",
        "outputId": "acb407ef-925b-4309-fbc9-3ba174222757"
      },
      "execution_count": 31,
      "outputs": [
        {
          "output_type": "stream",
          "name": "stdout",
          "text": [
            "0.9906057437524829\n",
            "0.9854037835470643\n"
          ]
        }
      ]
    },
    {
      "cell_type": "code",
      "source": [
        "importances = pd.DataFrame(best_tree.feature_importances_, index=X.columns, columns=[\"Importance\"])\n",
        "importances.sort_values(by='Importance', ascending=False, inplace=True)\n",
        "plt.figure(figsize=(10,6))\n",
        "plt.bar(importances.index, importances['Importance'],  width = 0.4)\n",
        "# Setting up the plot\n",
        "plt.title('Feature Importances in Decision Tree Classifier')  # Adding a title\n",
        "plt.xlabel('Features')   # Labeling the x-axis\n",
        "plt.ylabel('Importance') # Labeling the y-axis\n",
        "plt.xticks(rotation=90)\n",
        "plt.show()"
      ],
      "metadata": {
        "colab": {
          "base_uri": "https://localhost:8080/",
          "height": 844
        },
        "id": "xl_4PLwixvnv",
        "outputId": "5794cf0e-acb2-4882-8bc6-cf9012ae574e"
      },
      "execution_count": 32,
      "outputs": [
        {
          "output_type": "display_data",
          "data": {
            "text/plain": [
              "<Figure size 1000x600 with 1 Axes>"
            ],
            "image/png": "[encoded data removed]"
          },
          "metadata": {}
        }
      ]
    },
    {
      "cell_type": "code",
      "source": [
        "#Applying Random Forest"
      ],
      "metadata": {
        "id": "LIrYcH257zzp"
      },
      "execution_count": 33,
      "outputs": []
    },
    {
      "cell_type": "code",
      "source": [
        "from sklearn.ensemble import RandomForestClassifier\n"
      ],
      "metadata": {
        "id": "96DrnQak2Czs"
      },
      "execution_count": 34,
      "outputs": []
    },
    {
      "cell_type": "code",
      "source": [
        "import time\n",
        "\n",
        "grid_values = {'max_features': np.linspace(1,18,18, dtype='int32'),\n",
        "               'min_samples_leaf': [3],\n",
        "               'n_estimators': [5],\n",
        "               'random_state': [88]}\n",
        "\n",
        "tic = time.time() #This is to time the model\n",
        "\n",
        "rf2 = RandomForestClassifier(random_state = 88)\n",
        "scorer = make_scorer(roc_auc_score, needs_proba=True)\n",
        "rf_cv = GridSearchCV(estimator=rf2, param_grid=grid_values, scoring=scorer, cv=5)\n",
        "rf_cv.fit(X_train, y_train)\n",
        "\n",
        "toc = time.time() #This is to time the model\n",
        "print('time:', round(toc-tic, 2),'s')#This is to time the model"
      ],
      "metadata": {
        "id": "FjapA2FszH1v",
        "colab": {
          "base_uri": "https://localhost:8080/"
        },
        "outputId": "f215bc7f-10e9-4c83-feeb-710cb630174c"
      },
      "execution_count": 35,
      "outputs": [
        {
          "output_type": "stream",
          "name": "stdout",
          "text": [
            "time: 82.51 s\n"
          ]
        }
      ]
    },
    {
      "cell_type": "code",
      "source": [
        "print(rf_cv.best_params_)"
      ],
      "metadata": {
        "id": "czIyY72n0Ri7",
        "colab": {
          "base_uri": "https://localhost:8080/"
        },
        "outputId": "1c13a6fc-89d2-4b66-bc09-4bbf67cbbce5"
      },
      "execution_count": 36,
      "outputs": [
        {
          "output_type": "stream",
          "name": "stdout",
          "text": [
            "{'max_features': 13, 'min_samples_leaf': 3, 'n_estimators': 5, 'random_state': 88}\n"
          ]
        }
      ]
    },
    {
      "cell_type": "code",
      "source": [
        "from sklearn.metrics import confusion_matrix\n",
        "from sklearn.metrics import accuracy_score\n",
        "from sklearn.metrics import recall_score\n",
        "\n",
        "rft = rf_cv.best_estimator_\n",
        "\n",
        "y_pred = rft.predict(X_test)\n",
        "cm = confusion_matrix(y_test, y_pred)\n",
        "\n",
        "print (\"Confusion Matrix : \\n\", cm)\n",
        "print('Accuracy:',accuracy_score(y_test, y_pred))\n",
        "# Extracting TP, TN, FP, FN from the confusion matrix\n",
        "TP = cm[1, 1]\n",
        "TN = cm[0, 0]\n",
        "FP = cm[0, 1]\n",
        "FN = cm[1, 0]\n",
        "\n",
        "# Calculating TPR and FPR\n",
        "TPR = TP / (TP + FN)\n",
        "FPR = FP / (FP + TN)\n",
        "\n",
        "print('True Positive Rate (TPR):', TPR)\n",
        "print('False Positive Rate (FPR):', FPR)"
      ],
      "metadata": {
        "id": "YbpnYLwR25cW",
        "colab": {
          "base_uri": "https://localhost:8080/"
        },
        "outputId": "e5e4b3f2-ba9b-47d5-99e6-a6c4054b3a90"
      },
      "execution_count": 37,
      "outputs": [
        {
          "output_type": "stream",
          "name": "stdout",
          "text": [
            "Confusion Matrix : \n",
            " [[21317   651]\n",
            " [ 1033 15846]]\n",
            "Accuracy: 0.9566504491981362\n",
            "True Positive Rate (TPR): 0.9387996919248771\n",
            "False Positive Rate (FPR): 0.02963401310997815\n"
          ]
        }
      ]
    },
    {
      "cell_type": "code",
      "source": [
        "from sklearn.metrics import roc_auc_score\n",
        "train_probs = rft.predict_proba(X_train)[:, 1]\n",
        "train_auc = (roc_auc_score(y_train, train_probs))\n",
        "test_probs = rft.predict_proba(X_test)[:, 1]\n",
        "test_auc = (roc_auc_score(y_test, test_probs))"
      ],
      "metadata": {
        "id": "p7jlUcJ80zjU"
      },
      "execution_count": 38,
      "outputs": []
    },
    {
      "cell_type": "code",
      "source": [],
      "metadata": {
        "id": "mxQYQAgfBva2"
      },
      "execution_count": 38,
      "outputs": []
    },
    {
      "cell_type": "code",
      "source": [
        "print(train_auc)\n",
        "print(test_auc)"
      ],
      "metadata": {
        "id": "Du3hVzf80ad7",
        "colab": {
          "base_uri": "https://localhost:8080/"
        },
        "outputId": "a2772708-0963-4e5c-c901-33a97ded0c72"
      },
      "execution_count": 39,
      "outputs": [
        {
          "output_type": "stream",
          "name": "stdout",
          "text": [
            "0.999151187556579\n",
            "0.9898753032757427\n"
          ]
        }
      ]
    },
    {
      "cell_type": "code",
      "source": [
        "import seaborn as sns\n",
        "importances = pd.DataFrame(rft.feature_importances_, index=X.columns, columns=[\"Importance\"])\n",
        "importances.sort_values(by='Importance', ascending=False, inplace=True)\n",
        "plt.figure(figsize=(20,10))\n",
        "plt.bar(importances.index, importances['Importance'],  width = 0.3)\n",
        "# Setting up the plot\n",
        "plt.title('Feature Importances in Random Forest Classifier')  # Adding a title\n",
        "plt.xlabel('Features')   # Labeling the x-axis\n",
        "plt.ylabel('Importance') # Labeling the y-axis\n",
        "plt.xticks(rotation=90)\n",
        "plt.show()"
      ],
      "metadata": {
        "id": "NXOgsABJ00w3",
        "colab": {
          "base_uri": "https://localhost:8080/",
          "height": 1000
        },
        "outputId": "7a4c6d2b-1065-42e6-a229-f7e0be6a7510"
      },
      "execution_count": 40,
      "outputs": [
        {
          "output_type": "display_data",
          "data": {
            "text/plain": [
              "<Figure size 2000x1000 with 1 Axes>"
            ],
            "image/png": "[encoded data removed]"
          },
          "metadata": {}
        }
      ]
    }
  ]
}
